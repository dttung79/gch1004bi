{
 "cells": [
  {
   "cell_type": "code",
   "execution_count": 2,
   "metadata": {},
   "outputs": [
    {
     "name": "stdout",
     "output_type": "stream",
     "text": [
      "Federal Bureau of Investigation\n",
      "Central Intelligence Agency\n",
      "The Triboro Bridge and Tunnel Authority\n",
      "Housing and Urban Development\n",
      "The Metropolitan Transit Authority\n",
      "The Port Authority of New York and New Jersey\n"
     ]
    }
   ],
   "source": [
    "# Syntax open: open(file, mode='r', buffering=-1, encoding=None, errors=None, newline=None, closefd=True, opener=None)\n",
    "# mode: r (read), w (write), a (append)\n",
    "f = open('agencies.txt', 'r')\n",
    "# read all the content to a list\n",
    "lines = f.readlines()\n",
    "for li in lines:\n",
    "    print(li.strip())\n",
    "\n",
    "f.close()"
   ]
  },
  {
   "cell_type": "code",
   "execution_count": 23,
   "metadata": {},
   "outputs": [
    {
     "name": "stdout",
     "output_type": "stream",
     "text": [
      "The Triboro Bridge and Tunnel Authority\n",
      "The Metropolitan Transit Authority\n",
      "The Port Authority of New York and New Jersey\n"
     ]
    }
   ],
   "source": [
    "f = open('agencies.txt', 'r')\n",
    "fw = open('agencies_authority.txt', 'w')\n",
    "# read content line by line\n",
    "for line in f:\n",
    "    if 'authority' in line.lower():\n",
    "        print(line.strip())\n",
    "        fw.write(line)\n",
    "f.close()\n",
    "fw.close()"
   ]
  },
  {
   "cell_type": "code",
   "execution_count": null,
   "metadata": {},
   "outputs": [],
   "source": [
    "# Read authors.txt, print name & email\n",
    "f = open('authors.txt', 'r')\n",
    "# Skip 3 first lines\n",
    "for _ in range(3):\n",
    "    next(f)\n",
    "# TODO: split line to get name & email\n",
    "for line in f:\n",
    "    name, email = line.split('<')\n",
    "    name = name.strip() + ':'\n",
    "    email = email.strip()[:-1]\n",
    "    print(f'{name:25}{email:25}')\n",
    "\n",
    "f.close()"
   ]
  },
  {
   "cell_type": "code",
   "execution_count": 12,
   "metadata": {},
   "outputs": [
    {
     "name": "stdout",
     "output_type": "stream",
     "text": [
      "[[  0.    0.  180.    3.5]\n",
      " [  1.    0.5 185.    4.5]\n",
      " [  2.    0.7 192.    5.2]]\n"
     ]
    }
   ],
   "source": [
    "import numpy as np\n",
    "data = np.loadtxt('falling.txt', skiprows=5)\n",
    "print(data)"
   ]
  },
  {
   "cell_type": "code",
   "execution_count": 13,
   "metadata": {},
   "outputs": [
    {
     "name": "stdout",
     "output_type": "stream",
     "text": [
      "[0.  0.5 0.7]\n",
      "[180. 185. 192.]\n"
     ]
    }
   ],
   "source": [
    "times = data[:, 1]\n",
    "print(times)\n",
    "heights = data[:, 2]\n",
    "print(heights)"
   ]
  },
  {
   "cell_type": "code",
   "execution_count": 14,
   "metadata": {},
   "outputs": [
    {
     "name": "stdout",
     "output_type": "stream",
     "text": [
      "[0.  0.5 0.7]\n",
      "[180. 185. 192.]\n"
     ]
    }
   ],
   "source": [
    "times, heights = np.loadtxt('falling.txt', skiprows=5, usecols=(1, 2), unpack=True)\n",
    "print(times)\n",
    "print(heights)"
   ]
  },
  {
   "cell_type": "code",
   "execution_count": 25,
   "metadata": {},
   "outputs": [
    {
     "name": "stdout",
     "output_type": "stream",
     "text": [
      "Code      Name                Grade     \n",
      "GBH17538  Le Minh Huong       6.5       \n",
      "GCH16336  Nguyen The Dat      6.5       \n",
      "GCH16388  Pham Minh Thang     9.5       \n",
      "GCH16573  Do Duy Tung         6.5       \n",
      "GCH16603  Nguyen Thanh Thang  8.0       \n",
      "GCH22000  Nguyen Minh Tuan    10        \n"
     ]
    }
   ],
   "source": [
    "student_data = np.loadtxt('gradebook.csv', delimiter=',', skiprows=1, dtype=str)\n",
    "# Clean student data\n",
    "for student in student_data:\n",
    "    if student[4] == '':\n",
    "        student[4] = '0'\n",
    "    if float(student[4]) > 10:\n",
    "        student[4] = '10'\n",
    "    if student[2] == '':\n",
    "        student[2] = 'GCH22000'\n",
    "# Print student data\n",
    "# for student in student_data:\n",
    "#     if float(student[4]) >= 6.5:\n",
    "#         print(f'{student[2]:10}{student[3]:20}{student[4]:10}')\n",
    "pass_students = [['Login','Email','Code','Name','Grade']]\n",
    "pass_students += [student for student in student_data if float(student[4]) >= 6.5]\n",
    "for st in pass_students:\n",
    "    print(f'{st[2]:10}{st[3]:20}{st[4]:10}')\n",
    "\n",
    "# Write to file\n",
    "np.savetxt('pass_students.csv', pass_students, delimiter=',', fmt='%s')"
   ]
  },
  {
   "cell_type": "code",
   "execution_count": 27,
   "metadata": {},
   "outputs": [
    {
     "name": "stdout",
     "output_type": "stream",
     "text": [
      "Done!\n"
     ]
    }
   ],
   "source": [
    "codes, names, grades = np.loadtxt('gradebook.csv', delimiter=',', skiprows=1, \n",
    "                                  usecols=(2, 3, 4), dtype=str, unpack=True)\n",
    "for i in range(len(codes)):\n",
    "    if grades[i] == '':\n",
    "        grades[i] = '0'\n",
    "    if codes[i] == '':\n",
    "        codes[i] = 'GCH22000'\n",
    "    if float(grades[i]) > 10:\n",
    "        grades[i] = '10'\n",
    "\n",
    "# Save clean data into new file\n",
    "np.savetxt('clean_gradebook.csv', np.column_stack((codes, names, grades)), delimiter=',', \n",
    "           fmt='%s', header='Code,Name,Grade')\n",
    "\n",
    "print('Done!')\n"
   ]
  },
  {
   "cell_type": "code",
   "execution_count": 30,
   "metadata": {},
   "outputs": [
    {
     "name": "stdout",
     "output_type": "stream",
     "text": [
      "Done!\n"
     ]
    }
   ],
   "source": [
    "import csv\n",
    "\n",
    "with open('gradebook.csv', 'r') as f:\n",
    "    reader = csv.reader(f)\n",
    "    with open('fail_students.csv', 'w') as fw:\n",
    "        writer = csv.writer(fw)\n",
    "\n",
    "        writer.writerow(next(reader))  # write header\n",
    "\n",
    "        for row in reader:\n",
    "            if row[4] == '':\n",
    "                row[4] = '0'\n",
    "            if float(row[4]) > 10:\n",
    "                row[4] = '10'\n",
    "            if row[2] == '':\n",
    "                row[2] = 'GCH22000'\n",
    "            if float(row[4]) < 6.5:\n",
    "                writer.writerow(row)\n",
    "print('Done!')"
   ]
  },
  {
   "cell_type": "code",
   "execution_count": null,
   "metadata": {},
   "outputs": [],
   "source": [
    "# Clean pizza_data.csv\n",
    "# Remove rows that have empty menus.amountMax, menus.amountMin\n",
    "# Rows that have empty priceRangeMax, priceRangeMin -> set to 0\n",
    "# For row that has more than one categories, keep just the 1st one\n",
    "# Remove id column, url column\n"
   ]
  }
 ],
 "metadata": {
  "kernelspec": {
   "display_name": "Python 3",
   "language": "python",
   "name": "python3"
  },
  "language_info": {
   "codemirror_mode": {
    "name": "ipython",
    "version": 3
   },
   "file_extension": ".py",
   "mimetype": "text/x-python",
   "name": "python",
   "nbconvert_exporter": "python",
   "pygments_lexer": "ipython3",
   "version": "3.9.12"
  },
  "orig_nbformat": 4,
  "vscode": {
   "interpreter": {
    "hash": "aee8b7b246df8f9039afb4144a1f6fd8d2ca17a180786b69acc140d282b71a49"
   }
  }
 },
 "nbformat": 4,
 "nbformat_minor": 2
}
